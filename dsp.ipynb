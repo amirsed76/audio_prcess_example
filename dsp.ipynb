{
 "cells": [
  {
   "cell_type": "code",
   "execution_count": null,
   "metadata": {},
   "outputs": [],
   "source": [
    "import librosa    \n",
    "import numpy as np \n",
    "from matplotlib import pyplot as plt \n",
    "from IPython.display import Audio\n",
    "from scipy.io.wavfile import read,write\n",
    "import librosa\n",
    "from IPython.core.display import display\n",
    "from scipy import signal\n",
    "import librosa.display\n",
    "import math\n",
    "from scipy.signal import savgol_filter\n",
    "from scipy.fftpack import fft # fourier transform\n"
   ]
  },
  {
   "cell_type": "code",
   "execution_count": null,
   "metadata": {},
   "outputs": [],
   "source": [
    "def show_audio(data,rate):\n",
    "    display(Audio(data , rate = rate))\n"
   ]
  },
  {
   "cell_type": "markdown",
   "metadata": {},
   "source": [
    "# read and show voice"
   ]
  },
  {
   "cell_type": "code",
   "execution_count": null,
   "metadata": {},
   "outputs": [],
   "source": [
    "def read_and_show_voice(path, rate):\n",
    "    data , sample_rate = librosa.load(path, sr=rate)\n",
    "    show_audio(data,rate)\n",
    "    return data\n"
   ]
  },
  {
   "cell_type": "code",
   "execution_count": null,
   "metadata": {},
   "outputs": [],
   "source": [
    "def downsampling_and_show_voice(voice_data , sample_rate , factor):\n",
    "    new_sample_rate = sample_rate/factor\n",
    "    data = librosa.resample(voice_data, sample_rate , new_sample_rate)\n",
    "    show_audio(data,new_sample_rate)\n",
    "    return data"
   ]
  },
  {
   "cell_type": "markdown",
   "metadata": {},
   "source": [
    "# part 1"
   ]
  },
  {
   "cell_type": "code",
   "execution_count": null,
   "metadata": {},
   "outputs": [],
   "source": [
    "load_rate = 64000\n",
    "\n",
    "print(\"my voice audio: \")\n",
    "my_voice_data = read_and_show_voice(\"my_voice.wav\" , rate=load_rate)\n",
    "\n",
    "print(\"call audio: \")\n",
    "call_data = read_and_show_voice(\"call.wav\" , rate=load_rate)\n",
    "\n",
    "print(\"music audio: \")\n",
    "music_data = read_and_show_voice(\"music.wav\",rate = load_rate)\n"
   ]
  },
  {
   "cell_type": "markdown",
   "metadata": {},
   "source": [
    "# part 2"
   ]
  },
  {
   "cell_type": "code",
   "execution_count": null,
   "metadata": {
    "scrolled": false
   },
   "outputs": [],
   "source": [
    "for factor in range(1,10 ):\n",
    "    print(f\"for factor downsampling = {factor}  & new_rate = {load_rate/factor}:\\n\")\n",
    "    print(\"my voice audio: \")\n",
    "    data= downsampling_and_show_voice(my_voice_data , load_rate , factor)\n",
    "    "
   ]
  },
  {
   "cell_type": "code",
   "execution_count": null,
   "metadata": {
    "scrolled": false
   },
   "outputs": [],
   "source": [
    "for factor in range(1,20):\n",
    "    print(f\"for factor downsampling = {factor}  & new_rate = {load_rate/factor}:\\n\")\n",
    "    \n",
    "    print(\"call audio: \")\n",
    "    data = downsampling_and_show_voice(call_data , load_rate , factor)\n",
    "\n",
    "    \n",
    "    print(\"___________________________________\")"
   ]
  },
  {
   "cell_type": "code",
   "execution_count": null,
   "metadata": {
    "scrolled": false
   },
   "outputs": [],
   "source": [
    "for factor in range(1,10):\n",
    "    print(f\"for factor downsampling = {factor}  & new_rate = {load_rate/factor}:\\n\")\n",
    "\n",
    "    \n",
    "    print(\"music audio: \")\n",
    "    data = downsampling_and_show_voice(music_data, load_rate , factor)\n",
    "\n",
    "    \n",
    "    print(\"___________________________________\")"
   ]
  },
  {
   "cell_type": "markdown",
   "metadata": {},
   "source": [
    "# part 3 -> in doc"
   ]
  },
  {
   "cell_type": "markdown",
   "metadata": {},
   "source": [
    "# part 4 \n",
    "in factor 5 is ok but factor 6 is weak "
   ]
  },
  {
   "cell_type": "code",
   "execution_count": null,
   "metadata": {},
   "outputs": [],
   "source": [
    "def remove_aliasing_and_show(data , factor,rate , low_pass_filter_type , n=None ):\n",
    "    result_data = signal.decimate(data,factor,n=n , ftype=low_pass_filter_type)\n",
    "    show_audio(result_data,rate)\n",
    "#     display(Audio(result_data,rate=rate))\n",
    "    return result_data"
   ]
  },
  {
   "cell_type": "code",
   "execution_count": null,
   "metadata": {},
   "outputs": [],
   "source": [
    "def show_audio_detail(rate,factor,audio , n=None):\n",
    "    print(\"orginal\")\n",
    "    data1 = downsampling_and_show_voice(audio , load_rate , factor)\n",
    "    print(\"remove aliasing with fir low pass filter:\")\n",
    "    data2 = remove_aliasing_and_show(audio,factor , rate, \"fir\",n=25)\n",
    "    print(\"remove aliasing with iir low pass filter:\")\n",
    "    data3 = remove_aliasing_and_show(audio,factor , rate, \"iir\",n)\n",
    "\n",
    "    \n",
    "    for data in [data1,data2,data3]:\n",
    "        display(plt.plot(fft(data)))\n",
    "\n",
    "#         try:\n",
    "#             librosa.display.waveshow(data, sr=rate)\n",
    "#         except:\n",
    "#             pass"
   ]
  },
  {
   "cell_type": "markdown",
   "metadata": {},
   "source": [
    "## my voice and factor 5"
   ]
  },
  {
   "cell_type": "code",
   "execution_count": null,
   "metadata": {},
   "outputs": [],
   "source": [
    "show_audio_detail(rate=64000/5 , factor=5 , audio=my_voice_data)"
   ]
  },
  {
   "cell_type": "markdown",
   "metadata": {},
   "source": [
    "## my voice and factor 7"
   ]
  },
  {
   "cell_type": "code",
   "execution_count": null,
   "metadata": {
    "scrolled": false
   },
   "outputs": [],
   "source": [
    "show_audio_detail(rate=64000/7 , factor=7 , audio=my_voice_data)"
   ]
  },
  {
   "cell_type": "markdown",
   "metadata": {},
   "source": [
    "## call voice and factor 14\n"
   ]
  },
  {
   "cell_type": "code",
   "execution_count": null,
   "metadata": {},
   "outputs": [],
   "source": [
    "show_audio_detail(rate=64000/14 , factor=14 , audio=call_data)"
   ]
  },
  {
   "cell_type": "markdown",
   "metadata": {},
   "source": [
    "## call voice and factor 20\n"
   ]
  },
  {
   "cell_type": "code",
   "execution_count": null,
   "metadata": {},
   "outputs": [],
   "source": [
    "show_audio_detail(rate=64000/20 , factor=20 , audio=call_data )\n"
   ]
  },
  {
   "cell_type": "markdown",
   "metadata": {},
   "source": [
    "## music voice and factor 4\n"
   ]
  },
  {
   "cell_type": "code",
   "execution_count": null,
   "metadata": {},
   "outputs": [],
   "source": [
    "show_audio_detail(rate=64000/4 , factor=4 , audio=music_data)\n"
   ]
  },
  {
   "cell_type": "markdown",
   "metadata": {},
   "source": [
    "## music voice and factor 6\n"
   ]
  },
  {
   "cell_type": "code",
   "execution_count": null,
   "metadata": {},
   "outputs": [],
   "source": [
    "show_audio_detail(rate=64000/6 , factor=6 , audio=music_data)\n"
   ]
  },
  {
   "cell_type": "markdown",
   "metadata": {},
   "source": [
    "# part 5 and 6"
   ]
  },
  {
   "cell_type": "code",
   "execution_count": null,
   "metadata": {},
   "outputs": [],
   "source": [
    "def make_noisy1_audio_and_show(audio_data , rate):\n",
    "    noise = np.random.normal(0, .1, audio_data.shape)\n",
    "    new_signal = audio_data + noise\n",
    "    display(Audio(new_signal , rate = rate))\n",
    "    return new_signal"
   ]
  },
  {
   "cell_type": "code",
   "execution_count": null,
   "metadata": {},
   "outputs": [],
   "source": [
    "def make_noisy2_audio_and_show(audio_data , rate):\n",
    "    snr = 10\n",
    "    rms_signal =math.sqrt(np.mean(audio_data**2))\n",
    "    rms_noise =math.sqrt(rms_signal**2/10**(snr/10))\n",
    "    noise=np.random.normal(0, rms_signal, audio_data.shape)\n",
    "    new_signal = audio_data + noise\n",
    "    display(Audio(new_signal , rate = rate))\n",
    "    return new_signal\n",
    "\n",
    "    "
   ]
  },
  {
   "cell_type": "code",
   "execution_count": null,
   "metadata": {},
   "outputs": [],
   "source": [
    "def reduce_noise_audio_and_show(audio_noisy_data , rate, window_length=101 ):\n",
    "    new_signal = savgol_filter(audio_noisy_data, window_length, 4)\n",
    "    show_audio(new_signal,rate)\n",
    "    return new_signal\n"
   ]
  },
  {
   "cell_type": "code",
   "execution_count": null,
   "metadata": {},
   "outputs": [],
   "source": [
    "def noisy_actions_and_show(voice,load_rate):\n",
    "    print(\"=====================================================\")\n",
    "    print(\"first noisy audio:\")\n",
    "    noisy1 = make_noisy1_audio_and_show(voice,load_rate)\n",
    "    print(\"second noisy audio:\")   \n",
    "    noisy2= make_noisy2_audio_and_show(voice,load_rate)\n",
    "    \n",
    "\n",
    "#     librosa.display.waveshow(noisy1, sr=load_rate)\n",
    "    print(\"remove noise:\")\n",
    "    display(plt.plot(fft(noisy2)))\n",
    "\n",
    "    print(\"*******remove noise with several parameter******\")\n",
    "    for window_length in [71,91,111,131,151,191]:\n",
    "        print(f\"____________window length = {window_length}________________\")\n",
    "\n",
    "        print(\"for first noisy audio:\")\n",
    "        data = reduce_noise_audio_and_show(noisy1,load_rate, window_length=window_length )\n",
    "        print(\"for second noisy audio:\")\n",
    "\n",
    "        data = reduce_noise_audio_and_show(noisy2,load_rate, window_length=window_length )\n",
    "        display(plt.plot(fft(data)))\n",
    "\n",
    "\n",
    "\n",
    "   \n"
   ]
  },
  {
   "cell_type": "markdown",
   "metadata": {},
   "source": [
    "## for my voice "
   ]
  },
  {
   "cell_type": "code",
   "execution_count": null,
   "metadata": {
    "scrolled": false
   },
   "outputs": [],
   "source": [
    "noisy_actions_and_show(my_voice_data,load_rate)"
   ]
  },
  {
   "cell_type": "markdown",
   "metadata": {},
   "source": [
    "# for call voice"
   ]
  },
  {
   "cell_type": "code",
   "execution_count": null,
   "metadata": {
    "scrolled": false
   },
   "outputs": [],
   "source": [
    "noisy_actions_and_show(call_data,load_rate)"
   ]
  },
  {
   "cell_type": "markdown",
   "metadata": {},
   "source": [
    "# for music voice"
   ]
  },
  {
   "cell_type": "code",
   "execution_count": null,
   "metadata": {
    "scrolled": false
   },
   "outputs": [],
   "source": [
    "noisy_actions_and_show(music_data,load_rate)"
   ]
  },
  {
   "cell_type": "code",
   "execution_count": null,
   "metadata": {},
   "outputs": [],
   "source": []
  },
  {
   "cell_type": "code",
   "execution_count": null,
   "metadata": {},
   "outputs": [],
   "source": []
  }
 ],
 "metadata": {
  "kernelspec": {
   "display_name": "Python 3",
   "language": "python",
   "name": "python3"
  },
  "language_info": {
   "codemirror_mode": {
    "name": "ipython",
    "version": 3
   },
   "file_extension": ".py",
   "mimetype": "text/x-python",
   "name": "python",
   "nbconvert_exporter": "python",
   "pygments_lexer": "ipython3",
   "version": "3.6.4"
  }
 },
 "nbformat": 4,
 "nbformat_minor": 4
}
